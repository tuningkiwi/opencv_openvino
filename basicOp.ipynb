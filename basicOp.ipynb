{
 "cells": [
  {
   "cell_type": "code",
   "execution_count": 1,
   "metadata": {},
   "outputs": [],
   "source": [
    "import cv2\n",
    "import matplotlib.pyplot as plt "
   ]
  },
  {
   "cell_type": "code",
   "execution_count": 1,
   "metadata": {},
   "outputs": [],
   "source": [
    "import cv2 \n",
    "\n",
    "src = cv2.imread(\"strawberry.webp\",cv2.IMREAD_COLOR)\n",
    "dst = cv2.bitwise_not(src)\n",
    "\n",
    "cv2.imshow(\"src\",src)\n",
    "cv2.imshow(\"dst\",dst)\n",
    "\n",
    "\n",
    "# cv2.waitKey(0)\n",
    "# cv2.destroyAllWindows()\n"
   ]
  },
  {
   "cell_type": "code",
   "execution_count": null,
   "metadata": {},
   "outputs": [],
   "source": [
    "import cv2\n",
    "\n",
    "\n",
    "src = cv2.imread(\"strawberry.webp\", cv2.IMREAD_COLOR)\n",
    "print(src.shape)\n",
    "\n",
    "gray = cv2.cvtColor(src,cv2.COLOR_BGR2GRAY)\n",
    "\n",
    "sobel = cv2.Sobel(gray, cv2.CV_8U, 1, 0, 3)\n",
    "\n",
    "cv2.imshow(\"sobel\",sobel)\n",
    "\n",
    "cv2.waitKey()\n",
    "cv2.destroyAllWindows()"
   ]
  },
  {
   "cell_type": "code",
   "execution_count": 1,
   "metadata": {},
   "outputs": [],
   "source": [
    "import cv2\n",
    "\n",
    "src = cv2.imread(\"strawberry.webp\",cv2.IMREAD_COLOR)\n",
    "\n",
    "gray = cv2.cvtColor(src,cv2.COLOR_BGR2GRAY)\n",
    "ret,dst = cv2.threshold(gray,100,255,cv2.THRESH_BINARY)\n",
    "\n",
    "cv2.imshow(\"dst\",dst)\n",
    "cv2.waitKey()\n",
    "cv2.destroyAllWindows()"
   ]
  },
  {
   "cell_type": "code",
   "execution_count": null,
   "metadata": {},
   "outputs": [],
   "source": [
    "import cv2\n",
    "import numpy as np\n",
    "\n",
    "src = cv2.imread(\"strawberry.webp\", cv2.IMREAD_COLOR)\n",
    "print(src.shape)\n",
    "\n",
    "b = src[:,:,0]\n",
    "g = src[:,:,1]\n",
    "r = src[:,:,2]\n",
    "\n",
    "inverse = cv2.merge((r,g,b))\n",
    "\n",
    "h, w, c = src.shape\n",
    "zero = np.zeros((h,w,1),dtype=np.uint8)\n",
    "dst = cv2.merge((b,g,zero))\n",
    "\n",
    "plt.imshow(\"b\",b)\n",
    "plt.imshow(\"g\",g)\n",
    "plt.imshow(\"r\",r)\n",
    "plt.imshow(\"inverse\", inverse)\n",
    "plt.imshow(\"dst\", dst)\n",
    "cv2.waitKey(0)\n",
    "cv2.destroyAllWindows()"
   ]
  }
 ],
 "metadata": {
  "kernelspec": {
   "display_name": "openvino_env",
   "language": "python",
   "name": "python3"
  },
  "language_info": {
   "codemirror_mode": {
    "name": "ipython",
    "version": 3
   },
   "file_extension": ".py",
   "mimetype": "text/x-python",
   "name": "python",
   "nbconvert_exporter": "python",
   "pygments_lexer": "ipython3",
   "version": "3.10.12"
  }
 },
 "nbformat": 4,
 "nbformat_minor": 2
}
